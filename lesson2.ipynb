{
  "nbformat": 4,
  "nbformat_minor": 0,
  "metadata": {
    "colab": {
      "provenance": [],
      "include_colab_link": true
    },
    "kernelspec": {
      "name": "python3",
      "display_name": "Python 3"
    },
    "language_info": {
      "name": "python"
    }
  },
  "cells": [
    {
      "cell_type": "markdown",
      "metadata": {
        "id": "view-in-github",
        "colab_type": "text"
      },
      "source": [
        "<a href=\"https://colab.research.google.com/github/yagnesh747/Daa2/blob/main/lesson2.ipynb\" target=\"_parent\"><img src=\"https://colab.research.google.com/assets/colab-badge.svg\" alt=\"Open In Colab\"/></a>"
      ]
    },
    {
      "cell_type": "markdown",
      "source": [
        "# 🧑‍🏫 Lesson 2: Binary Search – Divide and Conquer"
      ],
      "metadata": {
        "id": "2-CSL7X6dOFw"
      }
    },
    {
      "cell_type": "markdown",
      "source": [
        "**🎯 Learning Objectives**\n",
        "\n",
        "By the end of this lesson, students will:\n",
        "\n",
        "    Understand what binary search is\n",
        "\n",
        "    Learn the divide and conquer strategy\n",
        "\n",
        "    Implement binary search in Python\n",
        "\n",
        "    Visualize how the algorithm cuts the list in half"
      ],
      "metadata": {
        "id": "ZGd8Uqn0dSOX"
      }
    },
    {
      "cell_type": "markdown",
      "source": [
        "**🧠 Simple Problem Statement**\n",
        "\n",
        "    \"You are given a sorted list of numbers. Can you quickly find where a given number is?\"\n",
        "\n",
        "Example:"
      ],
      "metadata": {
        "id": "ErJCbQ55dYjp"
      }
    },
    {
      "cell_type": "code",
      "source": [
        "arr = [1, 3, 5, 7, 9]\n",
        "target = 7"
      ],
      "metadata": {
        "id": "Mji46hRkdM2u"
      },
      "execution_count": null,
      "outputs": []
    },
    {
      "cell_type": "markdown",
      "source": [
        "Answer: Index 3 (because arr[3] == 7)"
      ],
      "metadata": {
        "id": "EkgFOETgd0kv"
      }
    },
    {
      "cell_type": "markdown",
      "source": [
        "**🪄 Real-World Analogy**\n",
        "    \"Imagine you’re looking for a word in a dictionary. Do you check each word one by one from the first page?\"<br>\n",
        "    ❌ That’s slow!<br>\n",
        "    ✅ Instead, you open to the middle, check, and keep halving — that’s binary search!"
      ],
      "metadata": {
        "id": "18KgMJO3dnEn"
      }
    },
    {
      "cell_type": "code",
      "execution_count": null,
      "metadata": {
        "id": "Gm7flrNOdJvR"
      },
      "outputs": [],
      "source": [
        "def binary_search(arr, target):\n",
        "    low = 0\n",
        "    high = len(arr) - 1\n",
        "\n",
        "    while low <= high:\n",
        "        mid = (low + high) // 2  # Middle index\n",
        "        if arr[mid] == target:\n",
        "            return mid  # Found it!\n",
        "        elif arr[mid] < target:\n",
        "            low = mid + 1  # Search right half\n",
        "        else:\n",
        "            high = mid - 1  # Search left half\n",
        "    return -1  # Not found\n",
        "\n",
        "# Example use\n",
        "arr = [2, 4, 6, 8, 10, 12]\n",
        "target = 10\n",
        "print(\"Index of\", target, \"is\", binary_search(arr, target))  # Output: 4\n"
      ]
    },
    {
      "cell_type": "markdown",
      "source": [
        "**🔁 How It Works Step-by-Step**\n",
        "\n",
        "For arr = [2, 4, 6, 8, 10, 12] and target = 10:\n",
        "\n",
        "    Look at middle → 6 → not 10 → go right\n",
        "\n",
        "    Look at middle of right half → 10 → found it! ✅"
      ],
      "metadata": {
        "id": "WjoCyKHVeJfB"
      }
    }
  ]
}